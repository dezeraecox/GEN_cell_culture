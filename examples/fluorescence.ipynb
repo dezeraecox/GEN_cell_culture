{
 "cells": [
  {
   "cell_type": "markdown",
   "metadata": {},
   "source": [
    "# Fluorescence per phase\n",
    "\n",
    "This module allows a calculations for a second fluorescence channel, based on cells that have been binned into cell cycle phases. There is also an option to ignore the phase information."
   ]
  },
  {
   "cell_type": "code",
   "execution_count": 2,
   "metadata": {},
   "outputs": [
    {
     "name": "stderr",
     "output_type": "stream",
     "text": [
      "2019-08-04 20:51:33,061 GEN_Utils.FileHandling: [INFO ]  Import ok\n"
     ]
    }
   ],
   "source": [
    "import os\n",
    "import re\n",
    "import string\n",
    "import pandas as pd\n",
    "import numpy as np\n",
    "import matplotlib.pyplot as plt\n",
    "import seaborn as sns\n",
    "from loguru import logger\n",
    "from GEN_Utils import FileHandling"
   ]
  },
  {
   "cell_type": "markdown",
   "metadata": {},
   "source": [
    "### Set some sample-specific parameters"
   ]
  },
  {
   "cell_type": "code",
   "execution_count": 3,
   "metadata": {},
   "outputs": [],
   "source": [
    "input_folder = 'python/gauss_models/normalised/'\n",
    "output_folder = 'examples/python/phase_fluorescence/'\n",
    "fluorescence_col = 'TPE'\n",
    "plate_samples = ['TPE only', '1', '1.5', '2', '3', '4']*4\n",
    "\n",
    "plate_cords = [f'{x}{y}' for x in string.ascii_uppercase[0:4]\n",
    "               for y in range(1, 7)]\n",
    "\n",
    "sample_map = dict(zip(plate_cords, plate_samples))"
   ]
  },
  {
   "cell_type": "code",
   "execution_count": 4,
   "metadata": {},
   "outputs": [
    {
     "ename": "FileNotFoundError",
     "evalue": "[WinError 3] The system cannot find the path specified: 'C:\\\\Users\\\\Dezerae/examples/python/phase_fluorescence/'",
     "output_type": "error",
     "traceback": [
      "\u001b[1;31m---------------------------------------------------------------------------\u001b[0m",
      "\u001b[1;31mFileNotFoundError\u001b[0m                         Traceback (most recent call last)",
      "\u001b[1;32m<ipython-input-4-c9b077489e4b>\u001b[0m in \u001b[0;36m<module>\u001b[1;34m\u001b[0m\n\u001b[0;32m      1\u001b[0m \u001b[1;32mif\u001b[0m \u001b[1;32mnot\u001b[0m \u001b[0mos\u001b[0m\u001b[1;33m.\u001b[0m\u001b[0mpath\u001b[0m\u001b[1;33m.\u001b[0m\u001b[0mexists\u001b[0m\u001b[1;33m(\u001b[0m\u001b[0moutput_folder\u001b[0m\u001b[1;33m)\u001b[0m\u001b[1;33m:\u001b[0m\u001b[1;33m\u001b[0m\u001b[1;33m\u001b[0m\u001b[0m\n\u001b[1;32m----> 2\u001b[1;33m     \u001b[0mos\u001b[0m\u001b[1;33m.\u001b[0m\u001b[0mmkdir\u001b[0m\u001b[1;33m(\u001b[0m\u001b[0moutput_folder\u001b[0m\u001b[1;33m)\u001b[0m\u001b[1;33m\u001b[0m\u001b[1;33m\u001b[0m\u001b[0m\n\u001b[0m\u001b[0;32m      3\u001b[0m \u001b[1;31m# Generate filelist\u001b[0m\u001b[1;33m\u001b[0m\u001b[1;33m\u001b[0m\u001b[1;33m\u001b[0m\u001b[0m\n\u001b[0;32m      4\u001b[0m \u001b[1;33m\u001b[0m\u001b[0m\n\u001b[0;32m      5\u001b[0m \u001b[0mfile_list\u001b[0m \u001b[1;33m=\u001b[0m \u001b[1;33m[\u001b[0m\u001b[0mfilename\u001b[0m \u001b[1;32mfor\u001b[0m \u001b[0mfilename\u001b[0m \u001b[1;32min\u001b[0m \u001b[0mos\u001b[0m\u001b[1;33m.\u001b[0m\u001b[0mlistdir\u001b[0m\u001b[1;33m(\u001b[0m\u001b[0minput_folder\u001b[0m\u001b[1;33m)\u001b[0m\u001b[1;33m]\u001b[0m\u001b[1;33m\u001b[0m\u001b[1;33m\u001b[0m\u001b[0m\n",
      "\u001b[1;31mFileNotFoundError\u001b[0m: [WinError 3] The system cannot find the path specified: 'C:\\\\Users\\\\Dezerae/examples/python/phase_fluorescence/'"
     ]
    }
   ],
   "source": [
    "if not os.path.exists(output_folder):\n",
    "    os.mkdir(output_folder)\n",
    "# Generate filelist\n",
    "\n",
    "file_list = [filename for filename in os.listdir(input_folder)]"
   ]
  },
  {
   "cell_type": "markdown",
   "metadata": {},
   "source": [
    "### Collect important info into summary df, grouped according to phase"
   ]
  },
  {
   "cell_type": "code",
   "execution_count": null,
   "metadata": {},
   "outputs": [],
   "source": [
    "sample_data = []\n",
    "\n",
    "for filename in file_list:\n",
    "    sample_name = os.path.splitext(filename)[0]\n",
    "    raw_data = pd.read_csv(f'{input_folder}{filename}')\n",
    "    raw_data.rename(columns={fluorescence_col: \"fluorescence\"}, inplace=True)\n",
    "    fluo_data = raw_data.copy()[['phase', 'fluorescence']]\n",
    "    fluo_data = fluo_data.groupby('phase').median().T\n",
    "    fluo_data['sample'] = sample_name\n",
    "    sample_data.append(fluo_data)\n",
    "\n",
    "summary_df = pd.concat(sample_data).reset_index(drop=True)"
   ]
  },
  {
   "cell_type": "code",
   "execution_count": null,
   "metadata": {},
   "outputs": [],
   "source": [
    "summary_df.head()"
   ]
  },
  {
   "cell_type": "code",
   "execution_count": null,
   "metadata": {},
   "outputs": [],
   "source": [
    "summary_df['plate'] = summary_df['sample'].str[0]\n",
    "summary_df['well'] = summary_df['sample'].str[1:]\n",
    "summary_df['sample'] = summary_df['well'].map(sample_map)\n",
    "summary_df.sort_values(['sample'], inplace=True)"
   ]
  },
  {
   "cell_type": "code",
   "execution_count": null,
   "metadata": {},
   "outputs": [],
   "source": [
    "summary_df.head(10)"
   ]
  },
  {
   "cell_type": "markdown",
   "metadata": {},
   "source": [
    "### Generate equivalent dataset, ignoring phase"
   ]
  },
  {
   "cell_type": "code",
   "execution_count": null,
   "metadata": {},
   "outputs": [],
   "source": [
    "sample_data = {}\n",
    "\n",
    "for filename in file_list:\n",
    "    sample_name = os.path.splitext(filename)[0]\n",
    "    raw_data = pd.read_csv(f'{input_folder}{filename}')\n",
    "    raw_data.rename(columns={fluorescence_col: \"fluorescence\"}, inplace=True)\n",
    "    fluo_data = raw_data.copy()['fluorescence']\n",
    "    sample_data[sample_name] = fluo_data.median()\n",
    "\n",
    "summary_df = pd.DataFrame.from_dict(sample_data, orient='index').reset_index()\n",
    "\n",
    "summary_df.rename(columns={'index': 'sample',\n",
    "                           0: 'med_fluorescence'}, inplace=True)\n",
    "\n",
    "summary_df['plate'] = summary_df['sample'].str[0]\n",
    "summary_df['well'] = summary_df['sample'].str[1:]\n",
    "summary_df['sample'] = summary_df['well'].map(sample_map)\n",
    "summary_df.sort_values(['plate', 'sample'], inplace=True)"
   ]
  },
  {
   "cell_type": "code",
   "execution_count": null,
   "metadata": {},
   "outputs": [],
   "source": [
    "summary_df.head(10)"
   ]
  }
 ],
 "metadata": {
  "file_extension": ".py",
  "kernelspec": {
   "display_name": "cell_culture",
   "language": "python",
   "name": "cell_culture"
  },
  "language_info": {
   "codemirror_mode": {
    "name": "ipython",
    "version": 3
   },
   "file_extension": ".py",
   "mimetype": "text/x-python",
   "name": "python",
   "nbconvert_exporter": "python",
   "pygments_lexer": "ipython3",
   "version": "3.7.1"
  },
  "mimetype": "text/x-python",
  "name": "python",
  "npconvert_exporter": "python",
  "pygments_lexer": "ipython3",
  "version": 3
 },
 "nbformat": 4,
 "nbformat_minor": 2
}
