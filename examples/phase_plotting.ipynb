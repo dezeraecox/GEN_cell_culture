{
 "cells": [
  {
   "cell_type": "markdown",
   "metadata": {},
   "source": [
    "# Phase plotting\n",
    "\n",
    "Generates line plot of phase distribution over different samples using preprocessed summary file. Plots mean +/- SD."
   ]
  },
  {
   "cell_type": "code",
   "execution_count": 2,
   "metadata": {},
   "outputs": [
    {
     "name": "stderr",
     "output_type": "stream",
     "text": [
      "2019-08-04 16:31:54,832 GEN_Utils.FileHandling: [INFO ]  Import ok\n",
      "2019-08-04 16:31:54.845 | INFO     | __main__:<module>:10 - Import OK\n"
     ]
    }
   ],
   "source": [
    "import os\n",
    "import re\n",
    "import string\n",
    "import matplotlib.pyplot as plt\n",
    "import numpy as np\n",
    "import pandas as pd\n",
    "import seaborn as sns\n",
    "from GEN_Utils import FileHandling\n",
    "from loguru import logger\n",
    "logger.info(\"Import OK\")"
   ]
  },
  {
   "cell_type": "markdown",
   "metadata": {},
   "source": [
    "# Set sample-specific variables"
   ]
  },
  {
   "cell_type": "code",
   "execution_count": 3,
   "metadata": {},
   "outputs": [],
   "source": [
    "input_path = 'python/gauss_models/'\n",
    "output_path = 'python/phase_plotting/'\n",
    "plate_sample = ['TPE only', '1', '1.5', '2', '3', '4']*4\n",
    "\n",
    "plate_cords = [f'{x}{y}' for x in string.ascii_uppercase[0:4]\n",
    "               for y in range(1, 7)]\n",
    "\n",
    "sample_map = dict(zip(plate_cords, plate_sample))"
   ]
  },
  {
   "cell_type": "code",
   "execution_count": 4,
   "metadata": {},
   "outputs": [],
   "source": [
    "if not os.path.exists(output_path):\n",
    "    os.mkdir(output_path)"
   ]
  },
  {
   "cell_type": "markdown",
   "metadata": {},
   "source": [
    "# Read in summary df and preview"
   ]
  },
  {
   "cell_type": "code",
   "execution_count": 5,
   "metadata": {},
   "outputs": [],
   "source": [
    "summary = pd.read_excel(f'{input_path}summary.xlsx')"
   ]
  },
  {
   "cell_type": "code",
   "execution_count": 6,
   "metadata": {},
   "outputs": [
    {
     "data": {
      "text/html": [
       "<div>\n",
       "<style scoped>\n",
       "    .dataframe tbody tr th:only-of-type {\n",
       "        vertical-align: middle;\n",
       "    }\n",
       "\n",
       "    .dataframe tbody tr th {\n",
       "        vertical-align: top;\n",
       "    }\n",
       "\n",
       "    .dataframe thead th {\n",
       "        text-align: right;\n",
       "    }\n",
       "</style>\n",
       "<table border=\"1\" class=\"dataframe\">\n",
       "  <thead>\n",
       "    <tr style=\"text-align: right;\">\n",
       "      <th></th>\n",
       "      <th>Unnamed: 0</th>\n",
       "      <th>sample</th>\n",
       "      <th>G</th>\n",
       "      <th>S</th>\n",
       "      <th>M</th>\n",
       "    </tr>\n",
       "  </thead>\n",
       "  <tbody>\n",
       "    <tr>\n",
       "      <th>0</th>\n",
       "      <td>0</td>\n",
       "      <td>1A2</td>\n",
       "      <td>0.443085</td>\n",
       "      <td>0.224360</td>\n",
       "      <td>0.332555</td>\n",
       "    </tr>\n",
       "    <tr>\n",
       "      <th>1</th>\n",
       "      <td>1</td>\n",
       "      <td>1A3</td>\n",
       "      <td>0.459978</td>\n",
       "      <td>0.223902</td>\n",
       "      <td>0.316120</td>\n",
       "    </tr>\n",
       "    <tr>\n",
       "      <th>2</th>\n",
       "      <td>2</td>\n",
       "      <td>1A4</td>\n",
       "      <td>0.434106</td>\n",
       "      <td>0.227156</td>\n",
       "      <td>0.338738</td>\n",
       "    </tr>\n",
       "    <tr>\n",
       "      <th>3</th>\n",
       "      <td>3</td>\n",
       "      <td>1A5</td>\n",
       "      <td>0.489330</td>\n",
       "      <td>0.196186</td>\n",
       "      <td>0.314484</td>\n",
       "    </tr>\n",
       "    <tr>\n",
       "      <th>4</th>\n",
       "      <td>4</td>\n",
       "      <td>1A6</td>\n",
       "      <td>0.477267</td>\n",
       "      <td>0.232741</td>\n",
       "      <td>0.289992</td>\n",
       "    </tr>\n",
       "  </tbody>\n",
       "</table>\n",
       "</div>"
      ],
      "text/plain": [
       "   Unnamed: 0 sample         G         S         M\n",
       "0           0    1A2  0.443085  0.224360  0.332555\n",
       "1           1    1A3  0.459978  0.223902  0.316120\n",
       "2           2    1A4  0.434106  0.227156  0.338738\n",
       "3           3    1A5  0.489330  0.196186  0.314484\n",
       "4           4    1A6  0.477267  0.232741  0.289992"
      ]
     },
     "execution_count": 6,
     "metadata": {},
     "output_type": "execute_result"
    }
   ],
   "source": [
    "summary.head()"
   ]
  },
  {
   "cell_type": "markdown",
   "metadata": {},
   "source": [
    "# Assign sample-specific descriptors to summary table"
   ]
  },
  {
   "cell_type": "code",
   "execution_count": 7,
   "metadata": {},
   "outputs": [],
   "source": [
    "summary['plate'] = summary['sample'].str[0]\n",
    "summary['well'] = summary['sample'].str[1:]\n",
    "summary['sample'] = summary['well'].map(sample_map)\n",
    "phase_name = ['G', 'S', 'M']\n",
    "phase_num = [1, 2, 3]\n",
    "phase_map = dict(zip(phase_name, phase_num))"
   ]
  },
  {
   "cell_type": "markdown",
   "metadata": {},
   "source": [
    "# Generate line-plot"
   ]
  },
  {
   "cell_type": "code",
   "execution_count": 8,
   "metadata": {},
   "outputs": [
    {
     "data": {
      "image/png": "[encoded data removed]",
      "text/plain": [
       "<Figure size 432x288 with 1 Axes>"
      ]
     },
     "metadata": {
      "needs_background": "light"
     },
     "output_type": "display_data"
    }
   ],
   "source": [
    "fig = plt.subplots()\n",
    "\n",
    "for phase in phase_name:\n",
    "    sns.lineplot(summary['sample'], summary[phase], label=phase, ci='sd')\n",
    "\n",
    "plt.ylabel(\"Proportion of cells in phase\")\n",
    "plt.xlabel(r'Density(x 10$^ 5$)')\n",
    "plt.title('Phase distribution')\n",
    "plt.legend(bbox_to_anchor=(1.1, 1.0), title='Phase')\n",
    "plt.tight_layout()\n",
    "plt.autoscale()\n",
    "plt.savefig(f'{output_path}line_plot.png')"
   ]
  }
 ],
 "metadata": {
  "file_extension": ".py",
  "kernelspec": {
   "display_name": "cell_culture",
   "language": "python",
   "name": "cell_culture"
  },
  "language_info": {
   "codemirror_mode": {
    "name": "ipython",
    "version": 3
   },
   "file_extension": ".py",
   "mimetype": "text/x-python",
   "name": "python",
   "nbconvert_exporter": "python",
   "pygments_lexer": "ipython3",
   "version": "3.7.1"
  },
  "mimetype": "text/x-python",
  "name": "python",
  "npconvert_exporter": "python",
  "pygments_lexer": "ipython3",
  "version": 3
 },
 "nbformat": 4,
 "nbformat_minor": 2
}
